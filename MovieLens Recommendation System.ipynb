{
  "cells": [
    {
      "cell_type": "markdown",
      "metadata": {
        "id": "s7p6eHAiKIJE"
      },
      "source": [
        "Movies Recommendation System\n"
      ]
    },
    {
      "cell_type": "markdown",
      "metadata": {
        "id": "giqcgC8hJ8gN"
      },
      "source": [
        "dataset link - https://www.kaggle.com/datasets/grouplens/movielens-20m-dataset\n"
      ]
    },
    {
      "cell_type": "code",
      "execution_count": null,
      "metadata": {
        "colab": {
          "base_uri": "https://localhost:8080/"
        },
        "id": "wDVy8Onf-yeC",
        "outputId": "cfdcf0db-9d9d-4bba-e604-4d3b960e6cf9"
      },
      "outputs": [
        {
          "name": "stdout",
          "output_type": "stream",
          "text": [
            "   userId  movieId  rating            timestamp  \\\n",
            "0       1        2     3.5  2005-04-02 23:53:47   \n",
            "1       1       29     3.5  2005-04-02 23:31:16   \n",
            "2       1       32     3.5  2005-04-02 23:33:39   \n",
            "3       1       47     3.5  2005-04-02 23:32:07   \n",
            "4       1       50     3.5  2005-04-02 23:29:40   \n",
            "\n",
            "                                               title  \\\n",
            "0                                     Jumanji (1995)   \n",
            "1  City of Lost Children, The (Cité des enfants p...   \n",
            "2          Twelve Monkeys (a.k.a. 12 Monkeys) (1995)   \n",
            "3                        Seven (a.k.a. Se7en) (1995)   \n",
            "4                         Usual Suspects, The (1995)   \n",
            "\n",
            "                                   genres  \n",
            "0              Adventure|Children|Fantasy  \n",
            "1  Adventure|Drama|Fantasy|Mystery|Sci-Fi  \n",
            "2                 Mystery|Sci-Fi|Thriller  \n",
            "3                        Mystery|Thriller  \n",
            "4                  Crime|Mystery|Thriller  \n"
          ]
        }
      ],
      "source": [
        "import pandas as pd\n",
        "\n",
        "# Load ratings data\n",
        "ratings_df = pd.read_csv('/content/rating.csv')\n",
        "\n",
        "# Load movie data\n",
        "movies_df = pd.read_csv('/content/movie.csv')\n",
        "\n",
        "# Merge ratings and movie data\n",
        "merged_df = pd.merge(ratings_df, movies_df, on='movieId', how='left')\n",
        "\n",
        "# Display the first few rows of the merged dataframe\n",
        "print(merged_df.head())\n"
      ]
    },
    {
      "cell_type": "code",
      "execution_count": null,
      "metadata": {
        "id": "31qReKVNB1MZ"
      },
      "outputs": [],
      "source": [
        "tags_df = pd.read_csv('/content/tag.csv')"
      ]
    },
    {
      "cell_type": "code",
      "execution_count": null,
      "metadata": {
        "id": "XQkOb7a1BxRx"
      },
      "outputs": [],
      "source": [
        "merged_df = pd.merge(merged_df, tags_df, on=['userId', 'movieId'], how='left')"
      ]
    },
    {
      "cell_type": "code",
      "execution_count": null,
      "metadata": {
        "colab": {
          "base_uri": "https://localhost:8080/"
        },
        "id": "mlO78FYO_fRr",
        "outputId": "eabca259-8604-4add-abae-426088f619b1"
      },
      "outputs": [
        {
          "name": "stdout",
          "output_type": "stream",
          "text": [
            "userId               0\n",
            "movieId              0\n",
            "rating               1\n",
            "timestamp_x          1\n",
            "title                0\n",
            "genres               0\n",
            "tag            1775732\n",
            "timestamp_y    1775732\n",
            "dtype: int64\n"
          ]
        }
      ],
      "source": [
        "print(merged_df.isnull().sum())"
      ]
    },
    {
      "cell_type": "code",
      "execution_count": null,
      "metadata": {
        "colab": {
          "base_uri": "https://localhost:8080/"
        },
        "id": "zYlUzKRGCTnb",
        "outputId": "f651cb5f-a2ae-4890-e178-e36dbe1eafb6"
      },
      "outputs": [
        {
          "name": "stdout",
          "output_type": "stream",
          "text": [
            "userId         0\n",
            "movieId        0\n",
            "rating         0\n",
            "timestamp_x    0\n",
            "title          0\n",
            "genres         0\n",
            "tag            0\n",
            "timestamp_y    0\n",
            "dtype: int64\n"
          ]
        }
      ],
      "source": [
        "# Drop rows with missing values in rating and timestamps\n",
        "merged_df.dropna(subset=['rating', 'timestamp_x', 'timestamp_y'], inplace=True)\n",
        "\n",
        "# Fill missing values in the tag column with a placeholder value (e.g., 'NoTag')\n",
        "merged_df['tag'].fillna('NoTag', inplace=True)\n",
        "\n",
        "# Check again for missing values\n",
        "print(merged_df.isnull().sum())\n"
      ]
    },
    {
      "cell_type": "code",
      "execution_count": null,
      "metadata": {
        "id": "Dk-RzD7y_jMb"
      },
      "outputs": [],
      "source": [
        "merged_df.dropna(inplace=True)"
      ]
    },
    {
      "cell_type": "code",
      "execution_count": null,
      "metadata": {
        "colab": {
          "base_uri": "https://localhost:8080/"
        },
        "id": "jgJePtWn_lK7",
        "outputId": "2ba8921c-d1e5-4cb2-89fb-7365612786ba"
      },
      "outputs": [
        {
          "name": "stdout",
          "output_type": "stream",
          "text": [
            "             userId        movieId        rating\n",
            "count  50047.000000   50047.000000  50047.000000\n",
            "mean    6917.362659   33136.995724      3.723180\n",
            "std     3609.094942   36645.954746      1.014717\n",
            "min       65.000000       1.000000      0.500000\n",
            "25%     4087.000000    2355.000000      3.000000\n",
            "50%     6988.000000    7301.000000      4.000000\n",
            "75%    10616.000000   64957.000000      4.500000\n",
            "max    12087.000000  130073.000000      5.000000\n"
          ]
        }
      ],
      "source": [
        "print(merged_df.describe())"
      ]
    },
    {
      "cell_type": "code",
      "execution_count": null,
      "metadata": {
        "id": "9_60K0fm_4L-",
        "collapsed": true
      },
      "outputs": [],
      "source": [
        "import numpy as np\n",
        "\n",
        "# Define functions for winsorization and capping\n",
        "def winsorize(series):\n",
        "    q1 = series.quantile(0.01)\n",
        "    q99 = series.quantile(0.99)\n",
        "    series = np.where(series < q1, q1, series)\n",
        "    series = np.where(series > q99, q99, series)\n",
        "    return series\n",
        "\n",
        "def cap(series, cap_value):\n",
        "    return np.minimum(series, cap_value)\n",
        "\n",
        "# Apply the transformations\n",
        "merged_df['userId'] = winsorize(merged_df['userId'])\n",
        "merged_df['movieId'] = winsorize(merged_df['movieId'])\n",
        "merged_df['rating'] = cap(merged_df['rating'], 5)  # capping ratings at 5\n",
        "\n",
        "# Check summary statistics after handling outliers\n",
        "print(merged_df.describe())\n"
      ]
    },
    {
      "cell_type": "code",
      "execution_count": null,
      "metadata": {
        "id": "nIUxR_l8_pHH"
      },
      "outputs": [],
      "source": [
        "merged_df = merged_df[(merged_df['rating'] >= 0) & (merged_df['rating'] <= 5)]"
      ]
    },
    {
      "cell_type": "code",
      "execution_count": null,
      "metadata": {
        "id": "810tzRBFAeWR"
      },
      "outputs": [],
      "source": [
        "# Create user-item interaction matrix\n",
        "interaction_matrix = merged_df.pivot_table(index='userId', columns='movieId', values='rating')\n",
        "\n",
        "# Fill missing values with 0 (assuming no rating implies a rating of 0)\n",
        "interaction_matrix.fillna(0, inplace=True)\n",
        "\n",
        "# Display the user-item interaction matrix\n",
        "print(interaction_matrix.head())\n"
      ]
    },
    {
      "cell_type": "code",
      "execution_count": null,
      "metadata": {
        "colab": {
          "base_uri": "https://localhost:8080/",
          "height": 992
        },
        "id": "1uBRvNPfAt19",
        "outputId": "0adbc239-e3f4-4da8-c71a-d002218447fc"
      },
      "outputs": [
        {
          "data": {
            "image/png": "[encoded data removed]",
            "text/plain": [
              "<Figure size 1000x500 with 1 Axes>"
            ]
          },
          "metadata": {},
          "output_type": "display_data"
        },
        {
          "name": "stderr",
          "output_type": "stream",
          "text": [
            "<ipython-input-11-82df62dee77c>:15: FutureWarning: \n",
            "\n",
            "Passing `palette` without assigning `hue` is deprecated and will be removed in v0.14.0. Assign the `y` variable to `hue` and set `legend=False` for the same effect.\n",
            "\n",
            "  sns.barplot(y=top_rated_movies.index, x=top_rated_movies.values, palette='viridis')\n"
          ]
        },
        {
          "data": {
            "image/png": "[encoded data removed]",
            "text/plain": [
              "<Figure size 1000x500 with 1 Axes>"
            ]
          },
          "metadata": {},
          "output_type": "display_data"
        }
      ],
      "source": [
        "import matplotlib.pyplot as plt\n",
        "import seaborn as sns\n",
        "\n",
        "# Plot distribution of ratings\n",
        "plt.figure(figsize=(10, 5))\n",
        "sns.histplot(merged_df['rating'], bins=20, kde=True)\n",
        "plt.title('Distribution of Ratings')\n",
        "plt.xlabel('Rating')\n",
        "plt.ylabel('Count')\n",
        "plt.show()\n",
        "\n",
        "# Analyze the most rated movies\n",
        "top_rated_movies = merged_df['title'].value_counts().head(10)\n",
        "plt.figure(figsize=(10, 5))\n",
        "sns.barplot(y=top_rated_movies.index, x=top_rated_movies.values, palette='viridis')\n",
        "plt.title('Top 10 Most Rated Movies')\n",
        "plt.xlabel('Number of Ratings')\n",
        "plt.ylabel('Movie Title')\n",
        "plt.show()\n"
      ]
    },
    {
      "cell_type": "code",
      "execution_count": null,
      "metadata": {
        "id": "HtGr2l8bBUs3"
      },
      "outputs": [],
      "source": [
        "# Extract movie genres as features\n",
        "genres_one_hot = merged_df['genres'].str.get_dummies(sep='|')\n",
        "merged_df = pd.concat([merged_df, genres_one_hot], axis=1)"
      ]
    },
    {
      "cell_type": "code",
      "execution_count": null,
      "metadata": {
        "id": "kfawzqzGCrgr"
      },
      "outputs": [],
      "source": [
        "user_features = merged_df.groupby('userId')['rating'].mean()"
      ]
    },
    {
      "cell_type": "code",
      "execution_count": null,
      "metadata": {
        "colab": {
          "base_uri": "https://localhost:8080/"
        },
        "id": "D-J2FqDwCwqk",
        "outputId": "e7b21ea1-4182-465a-a0ff-6cb6eff21241"
      },
      "outputs": [
        {
          "name": "stdout",
          "output_type": "stream",
          "text": [
            "Requirement already satisfied: scikit-surprise in /usr/local/lib/python3.10/dist-packages (1.1.4)\n",
            "Requirement already satisfied: joblib>=1.2.0 in /usr/local/lib/python3.10/dist-packages (from scikit-surprise) (1.4.2)\n",
            "Requirement already satisfied: numpy>=1.19.5 in /usr/local/lib/python3.10/dist-packages (from scikit-surprise) (1.25.2)\n",
            "Requirement already satisfied: scipy>=1.6.0 in /usr/local/lib/python3.10/dist-packages (from scikit-surprise) (1.11.4)\n"
          ]
        }
      ],
      "source": [
        "pip install scikit-surprise\n"
      ]
    },
    {
      "cell_type": "code",
      "execution_count": null,
      "metadata": {
        "colab": {
          "base_uri": "https://localhost:8080/"
        },
        "id": "zj9pseveEide",
        "outputId": "b6c3f02f-2d10-4127-edd8-39a04ee78e03"
      },
      "outputs": [
        {
          "name": "stdout",
          "output_type": "stream",
          "text": [
            "Computing the msd similarity matrix...\n",
            "Done computing similarity matrix.\n",
            "RMSE: 0.6174\n",
            "Computing the msd similarity matrix...\n",
            "Done computing similarity matrix.\n",
            "RMSE: 0.6226\n",
            "User-based CF RMSE: 0.6174421947500404\n",
            "Item-based CF RMSE: 0.6226469710178586\n"
          ]
        }
      ],
      "source": [
        "from surprise import Dataset, Reader\n",
        "from surprise.model_selection import train_test_split\n",
        "from surprise import KNNBasic, KNNWithMeans\n",
        "from surprise import accuracy\n",
        "\n",
        "# Load data into Surprise's Dataset format\n",
        "reader = Reader(rating_scale=(0.5, 5))\n",
        "data = Dataset.load_from_df(merged_df[['userId', 'movieId', 'rating']], reader)\n",
        "\n",
        "# Split data into train and test sets\n",
        "trainset, testset = train_test_split(data, test_size=0.2, random_state=42)\n",
        "\n",
        "# Example: User-based Collaborative Filtering\n",
        "# Define and train the algorithm\n",
        "user_based_cf = KNNBasic(sim_options={'user_based': True})\n",
        "user_based_cf.fit(trainset)\n",
        "\n",
        "# Predict ratings for the test set\n",
        "user_based_predictions = user_based_cf.test(testset)\n",
        "\n",
        "# Compute RMSE\n",
        "user_based_rmse = accuracy.rmse(user_based_predictions)\n",
        "\n",
        "# Example: Item-based Collaborative Filtering\n",
        "# Define and train the algorithm\n",
        "item_based_cf = KNNWithMeans(sim_options={'user_based': False})\n",
        "item_based_cf.fit(trainset)\n",
        "\n",
        "# Predict ratings for the test set\n",
        "item_based_predictions = item_based_cf.test(testset)\n",
        "\n",
        "# Compute RMSE\n",
        "item_based_rmse = accuracy.rmse(item_based_predictions)\n",
        "\n",
        "print(\"User-based CF RMSE:\", user_based_rmse)\n",
        "print(\"Item-based CF RMSE:\", item_based_rmse)\n"
      ]
    },
    {
      "cell_type": "code",
      "execution_count": null,
      "metadata": {
        "colab": {
          "base_uri": "https://localhost:8080/"
        },
        "id": "01YBoG4oFE-m",
        "outputId": "f93a5008-0e2e-4f5e-96cc-eeebe6e8b80a"
      },
      "outputs": [
        {
          "name": "stdout",
          "output_type": "stream",
          "text": [
            "Computing the msd similarity matrix...\n",
            "Done computing similarity matrix.\n",
            "Computing the msd similarity matrix...\n",
            "Done computing similarity matrix.\n",
            "Computing the msd similarity matrix...\n",
            "Done computing similarity matrix.\n",
            "Computing the msd similarity matrix...\n",
            "Done computing similarity matrix.\n",
            "Computing the msd similarity matrix...\n",
            "Done computing similarity matrix.\n",
            "Evaluating RMSE of algorithm KNNBasic on 5 split(s).\n",
            "\n",
            "                  Fold 1  Fold 2  Fold 3  Fold 4  Fold 5  Mean    Std     \n",
            "RMSE (testset)    0.6015  0.5902  0.5954  0.5857  0.6017  0.5949  0.0063  \n",
            "Fit time          0.08    0.04    0.07    0.07    0.08    0.07    0.01    \n",
            "Test time         1.05    0.84    0.60    1.01    0.91    0.88    0.16    \n",
            "Computing the msd similarity matrix...\n",
            "Done computing similarity matrix.\n",
            "Computing the msd similarity matrix...\n",
            "Done computing similarity matrix.\n",
            "Computing the msd similarity matrix...\n",
            "Done computing similarity matrix.\n",
            "Computing the msd similarity matrix...\n",
            "Done computing similarity matrix.\n",
            "Computing the msd similarity matrix...\n",
            "Done computing similarity matrix.\n",
            "Evaluating RMSE of algorithm KNNWithMeans on 5 split(s).\n",
            "\n",
            "                  Fold 1  Fold 2  Fold 3  Fold 4  Fold 5  Mean    Std     \n",
            "RMSE (testset)    0.6046  0.5971  0.6172  0.5928  0.6046  0.6033  0.0083  \n",
            "Fit time          6.05    2.88    2.88    2.82    3.58    3.64    1.24    \n",
            "Test time         25.90   14.64   13.97   13.72   13.56   16.36   4.79    \n",
            "User-based CF Cross-Validation Results: {'test_rmse': array([0.60153094, 0.5902411 , 0.59536436, 0.58572743, 0.60167986]), 'fit_time': (0.07697439193725586, 0.04499983787536621, 0.07127714157104492, 0.07070255279541016, 0.08087897300720215), 'test_time': (1.0463743209838867, 0.8410437107086182, 0.6031651496887207, 1.008188247680664, 0.9068090915679932)}\n",
            "Item-based CF Cross-Validation Results: {'test_rmse': array([0.60455737, 0.59707298, 0.61721163, 0.59277393, 0.60464904]), 'fit_time': (6.051598310470581, 2.8782026767730713, 2.875290632247925, 2.819932699203491, 3.5833823680877686), 'test_time': (25.902868270874023, 14.64194130897522, 13.971545696258545, 13.724897384643555, 13.562150239944458)}\n",
            "Computing the cosine similarity matrix...\n",
            "Done computing similarity matrix.\n",
            "Computing the cosine similarity matrix...\n",
            "Done computing similarity matrix.\n",
            "Computing the cosine similarity matrix...\n",
            "Done computing similarity matrix.\n",
            "Computing the pearson similarity matrix...\n",
            "Done computing similarity matrix.\n",
            "Computing the pearson similarity matrix...\n",
            "Done computing similarity matrix.\n",
            "Computing the pearson similarity matrix...\n",
            "Done computing similarity matrix.\n",
            "Computing the cosine similarity matrix...\n",
            "Done computing similarity matrix.\n",
            "Computing the cosine similarity matrix...\n",
            "Done computing similarity matrix.\n",
            "Computing the cosine similarity matrix...\n",
            "Done computing similarity matrix.\n",
            "Computing the pearson similarity matrix...\n",
            "Done computing similarity matrix.\n",
            "Computing the pearson similarity matrix...\n",
            "Done computing similarity matrix.\n",
            "Computing the pearson similarity matrix...\n",
            "Done computing similarity matrix.\n",
            "Computing the cosine similarity matrix...\n",
            "Done computing similarity matrix.\n",
            "Computing the cosine similarity matrix...\n",
            "Done computing similarity matrix.\n",
            "Computing the cosine similarity matrix...\n",
            "Done computing similarity matrix.\n",
            "Computing the pearson similarity matrix...\n",
            "Done computing similarity matrix.\n",
            "Computing the pearson similarity matrix...\n",
            "Done computing similarity matrix.\n",
            "Computing the pearson similarity matrix...\n",
            "Done computing similarity matrix.\n",
            "Best User-based CF RMSE: 0.5454339352805461\n",
            "Best User-based CF Parameters: {'k': 10, 'sim_options': {'name': 'pearson', 'user_based': True}}\n",
            "Computing the cosine similarity matrix...\n",
            "Done computing similarity matrix.\n",
            "Computing the cosine similarity matrix...\n",
            "Done computing similarity matrix.\n",
            "Computing the cosine similarity matrix...\n",
            "Done computing similarity matrix.\n",
            "Computing the pearson similarity matrix...\n",
            "Done computing similarity matrix.\n",
            "Computing the pearson similarity matrix...\n",
            "Done computing similarity matrix.\n",
            "Computing the pearson similarity matrix...\n",
            "Done computing similarity matrix.\n",
            "Computing the cosine similarity matrix...\n",
            "Done computing similarity matrix.\n",
            "Computing the cosine similarity matrix...\n",
            "Done computing similarity matrix.\n",
            "Computing the cosine similarity matrix...\n",
            "Done computing similarity matrix.\n",
            "Computing the pearson similarity matrix...\n",
            "Done computing similarity matrix.\n",
            "Computing the pearson similarity matrix...\n",
            "Done computing similarity matrix.\n",
            "Computing the pearson similarity matrix...\n",
            "Done computing similarity matrix.\n",
            "Computing the cosine similarity matrix...\n",
            "Done computing similarity matrix.\n",
            "Computing the cosine similarity matrix...\n",
            "Done computing similarity matrix.\n",
            "Computing the cosine similarity matrix...\n",
            "Done computing similarity matrix.\n",
            "Computing the pearson similarity matrix...\n",
            "Done computing similarity matrix.\n",
            "Computing the pearson similarity matrix...\n",
            "Done computing similarity matrix.\n",
            "Computing the pearson similarity matrix...\n",
            "Done computing similarity matrix.\n",
            "Best Item-based CF RMSE: 0.48693040461965986\n",
            "Best Item-based CF Parameters: {'k': 10, 'sim_options': {'name': 'pearson', 'user_based': True}}\n"
          ]
        }
      ],
      "source": [
        "# Train the selected recommendation algorithms using the training data\n",
        "# Evaluate the models using appropriate evaluation metrics (e.g., RMSE, precision@k, recall@k)\n",
        "\n",
        "from surprise.model_selection import cross_validate\n",
        "\n",
        "# Perform cross-validation to evaluate the models\n",
        "user_based_cv_results = cross_validate(user_based_cf, data, measures=['RMSE'], cv=5, verbose=True)\n",
        "item_based_cv_results = cross_validate(item_based_cf, data, measures=['RMSE'], cv=5, verbose=True)\n",
        "\n",
        "# Print cross-validation results\n",
        "print(\"User-based CF Cross-Validation Results:\", user_based_cv_results)\n",
        "print(\"Item-based CF Cross-Validation Results:\", item_based_cv_results)\n",
        "\n",
        "# Tune hyperparameters using techniques like grid search or random search\n",
        "# Optimize model performance based on evaluation metrics\n",
        "\n",
        "from surprise.model_selection import GridSearchCV\n",
        "\n",
        "# Define parameter grid for grid search\n",
        "param_grid = {'k': [10, 20, 30], 'sim_options': {'name': ['cosine', 'pearson']}}\n",
        "\n",
        "# Perform grid search for user-based CF\n",
        "user_based_grid_search = GridSearchCV(KNNBasic, param_grid, measures=['rmse'], cv=3)\n",
        "user_based_grid_search.fit(data)\n",
        "\n",
        "# Get the best RMSE score\n",
        "print(\"Best User-based CF RMSE:\", user_based_grid_search.best_score['rmse'])\n",
        "print(\"Best User-based CF Parameters:\", user_based_grid_search.best_params['rmse'])\n",
        "\n",
        "# Perform grid search for item-based CF\n",
        "item_based_grid_search = GridSearchCV(KNNWithMeans, param_grid, measures=['rmse'], cv=3)\n",
        "item_based_grid_search.fit(data)\n",
        "\n",
        "# Get the best RMSE score\n",
        "print(\"Best Item-based CF RMSE:\", item_based_grid_search.best_score['rmse'])\n",
        "print(\"Best Item-based CF Parameters:\", item_based_grid_search.best_params['rmse'])\n",
        "\n",
        "\n"
      ]
    },
    {
      "cell_type": "code",
      "execution_count": null,
      "metadata": {
        "colab": {
          "base_uri": "https://localhost:8080/"
        },
        "id": "kifgeEzNFn85",
        "outputId": "3bc736c3-e7ee-49f3-b014-16dfd573e0c1"
      },
      "outputs": [
        {
          "name": "stdout",
          "output_type": "stream",
          "text": [
            "Computing the msd similarity matrix...\n",
            "Done computing similarity matrix.\n",
            "Computing the msd similarity matrix...\n",
            "Done computing similarity matrix.\n",
            "Computing the msd similarity matrix...\n",
            "Done computing similarity matrix.\n",
            "Computing the msd similarity matrix...\n",
            "Done computing similarity matrix.\n",
            "Computing the msd similarity matrix...\n",
            "Done computing similarity matrix.\n",
            "Evaluating RMSE of algorithm KNNBasic on 5 split(s).\n",
            "\n",
            "                  Fold 1  Fold 2  Fold 3  Fold 4  Fold 5  Mean    Std     \n",
            "RMSE (testset)    0.6071  0.5696  0.5962  0.5870  0.5893  0.5899  0.0123  \n",
            "Fit time          0.05    0.04    0.05    0.05    0.05    0.05    0.00    \n",
            "Test time         0.65    0.51    0.52    0.52    0.50    0.54    0.05    \n",
            "Computing the msd similarity matrix...\n",
            "Done computing similarity matrix.\n",
            "Computing the msd similarity matrix...\n",
            "Done computing similarity matrix.\n",
            "Computing the msd similarity matrix...\n",
            "Done computing similarity matrix.\n",
            "Computing the msd similarity matrix...\n",
            "Done computing similarity matrix.\n",
            "Computing the msd similarity matrix...\n",
            "Done computing similarity matrix.\n",
            "Evaluating RMSE of algorithm KNNWithMeans on 5 split(s).\n",
            "\n",
            "                  Fold 1  Fold 2  Fold 3  Fold 4  Fold 5  Mean    Std     \n",
            "RMSE (testset)    0.6053  0.6036  0.6139  0.5902  0.6099  0.6046  0.0080  \n",
            "Fit time          2.88    3.96    3.25    4.01    4.76    3.77    0.65    \n",
            "Test time         15.81   13.98   13.62   16.56   13.84   14.76   1.19    \n",
            "User-based CF Cross-Validation Results:\n",
            "test_rmse: [0.60714362 0.56964959 0.59619232 0.58703157 0.58931542]\n",
            "fit_time: (0.04691672325134277, 0.044824838638305664, 0.045325279235839844, 0.04944586753845215, 0.04566359519958496)\n",
            "test_time: (0.6451938152313232, 0.5062248706817627, 0.516148567199707, 0.5233864784240723, 0.4964427947998047)\n",
            "\n",
            "Item-based CF Cross-Validation Results:\n",
            "test_rmse: [0.60534927 0.60355993 0.61385755 0.59017549 0.60986928]\n",
            "fit_time: (2.875974178314209, 3.956021308898926, 3.2532854080200195, 4.014540195465088, 4.7594475746154785)\n",
            "test_time: (15.809415817260742, 13.97797679901123, 13.618162870407104, 16.556434392929077, 13.835711240768433)\n"
          ]
        }
      ],
      "source": [
        "from surprise.model_selection import cross_validate\n",
        "\n",
        "# Perform cross-validation to evaluate the models\n",
        "user_based_cv_results = cross_validate(user_based_cf, data, measures=['RMSE'], cv=5, verbose=True)\n",
        "item_based_cv_results = cross_validate(item_based_cf, data, measures=['RMSE'], cv=5, verbose=True)\n",
        "\n",
        "# Print cross-validation results\n",
        "print(\"User-based CF Cross-Validation Results:\")\n",
        "for key, value in user_based_cv_results.items():\n",
        "    print(f\"{key}: {value}\")\n",
        "\n",
        "print(\"\\nItem-based CF Cross-Validation Results:\")\n",
        "for key, value in item_based_cv_results.items():\n",
        "    print(f\"{key}: {value}\")\n"
      ]
    },
    {
      "cell_type": "code",
      "execution_count": null,
      "metadata": {
        "id": "_Bu1QLpBRL-k"
      },
      "outputs": [],
      "source": [
        "from surprise.model_selection import cross_validate\n",
        "from surprise import accuracy\n",
        "from sklearn.metrics import precision_score, recall_score, f1_score\n",
        "\n",
        "# Evaluate models using cross-validation\n",
        "user_based_cv_results = cross_validate(user_based_cf, data, measures=['RMSE'], cv=5, verbose=True)\n",
        "item_based_cv_results = cross_validate(item_based_cf, data, measures=['RMSE'], cv=5, verbose=True)\n",
        "\n",
        "# Calculate RMSE using test data\n",
        "user_based_test_predictions = user_based_cf.test(testset)\n",
        "item_based_test_predictions = item_based_cf.test(testset)\n",
        "\n",
        "user_based_test_rmse = accuracy.rmse(user_based_test_predictions)\n",
        "item_based_test_rmse = accuracy.rmse(item_based_test_predictions)\n",
        "\n",
        "print(\"User-based CF RMSE (Test Data):\", user_based_test_rmse)\n",
        "print(\"Item-based CF RMSE (Test Data):\", item_based_test_rmse)\n",
        "\n",
        "# Calculate precision, recall, and F1-score using test data\n",
        "user_based_test_labels = [pred.r_ui for pred in user_based_test_predictions]\n",
        "user_based_test_preds = [pred.est for pred in user_based_test_predictions]\n",
        "\n",
        "item_based_test_labels = [pred.r_ui for pred in item_based_test_predictions]\n",
        "item_based_test_preds = [pred.est for pred in item_based_test_predictions]\n",
        "\n",
        "user_based_precision = precision_score(user_based_test_labels, [round(pred) for pred in user_based_test_preds], average='weighted')\n",
        "user_based_recall = recall_score(user_based_test_labels, [round(pred) for pred in user_based_test_preds], average='weighted')\n",
        "user_based_f1 = f1_score(user_based_test_labels, [round(pred) for pred in user_based_test_preds], average='weighted')\n",
        "\n",
        "item_based_precision = precision_score(item_based_test_labels, [round(pred) for pred in item_based_test_preds], average='weighted')\n",
        "item_based_recall = recall_score(item_based_test_labels, [round(pred) for pred in item_based_test_preds], average='weighted')\n",
        "item_based_f1 = f1_score(item_based_test_labels, [round(pred) for pred in item_based_test_preds], average='weighted')\n",
        "\n",
        "print(\"User-based CF Precision (Test Data):\", user_based_precision)\n",
        "print(\"User-based CF Recall (Test Data):\", user_based_recall)\n",
        "print(\"User-based CF F1-score (Test Data):\", user_based_f1)\n",
        "\n",
        "print(\"Item-based CF Precision (Test Data):\", item_based_precision)\n",
        "print(\"Item-based CF Recall (Test Data):\", item_based_recall)\n",
        "print(\"Item-based CF F1-score (Test Data):\", item_based_f1)\n"
      ]
    },
    {
      "cell_type": "code",
      "execution_count": null,
      "metadata": {
        "colab": {
          "background_save": true,
          "base_uri": "https://localhost:8080/"
        },
        "id": "mFUEXsBhRflW",
        "outputId": "afce9f55-66fb-456a-89b4-d0f7c0b2f6e9"
      },
      "outputs": [
        {
          "name": "stdout",
          "output_type": "stream",
          "text": [
            "Computing the msd similarity matrix...\n",
            "Done computing similarity matrix.\n",
            "Computing the msd similarity matrix...\n",
            "Done computing similarity matrix.\n",
            "Computing the msd similarity matrix...\n",
            "Done computing similarity matrix.\n",
            "Computing the msd similarity matrix...\n",
            "Done computing similarity matrix.\n",
            "Computing the msd similarity matrix...\n",
            "Done computing similarity matrix.\n",
            "Evaluating RMSE of algorithm KNNBasic on 5 split(s).\n",
            "\n",
            "                  Fold 1  Fold 2  Fold 3  Fold 4  Fold 5  Mean    Std     \n",
            "RMSE (testset)    0.5832  0.5978  0.6046  0.5799  0.5928  0.5917  0.0091  \n",
            "Fit time          0.12    0.07    0.07    0.07    0.06    0.08    0.02    \n",
            "Test time         1.64    0.90    1.12    0.85    0.88    1.08    0.30    \n",
            "Computing the msd similarity matrix...\n",
            "Done computing similarity matrix.\n",
            "Computing the msd similarity matrix...\n",
            "Done computing similarity matrix.\n",
            "Computing the msd similarity matrix...\n",
            "Done computing similarity matrix.\n",
            "Computing the msd similarity matrix...\n",
            "Done computing similarity matrix.\n",
            "Computing the msd similarity matrix...\n",
            "Done computing similarity matrix.\n",
            "Evaluating RMSE of algorithm KNNWithMeans on 5 split(s).\n",
            "\n",
            "                  Fold 1  Fold 2  Fold 3  Fold 4  Fold 5  Mean    Std     \n",
            "RMSE (testset)    0.6166  0.5962  0.6123  0.5994  0.5895  0.6028  0.0101  \n",
            "Fit time          4.11    3.18    2.74    3.47    3.49    3.40    0.45    \n",
            "Test time         14.37   14.19   13.89   14.51   15.02   14.40   0.37    \n",
            "User-based CF Cross-Validation Results:\n",
            "test_rmse: [0.58324401 0.5978314  0.60460468 0.57986153 0.59279852]\n",
            "fit_time: (0.11826086044311523, 0.0718233585357666, 0.06515669822692871, 0.06554865837097168, 0.0617828369140625)\n",
            "test_time: (1.641258955001831, 0.9012484550476074, 1.117008924484253, 0.8467051982879639, 0.8837757110595703)\n",
            "\n",
            "Item-based CF Cross-Validation Results:\n",
            "test_rmse: [0.61662031 0.59623361 0.61233258 0.599432   0.5894663 ]\n",
            "fit_time: (4.109528064727783, 3.1823577880859375, 2.737105369567871, 3.4721434116363525, 3.4892289638519287)\n",
            "test_time: (14.372820138931274, 14.18621277809143, 13.893700361251831, 14.509925603866577, 15.02053427696228)\n"
          ]
        }
      ],
      "source": [
        "from surprise.model_selection import cross_validate\n",
        "\n",
        "# Perform cross-validation to evaluate the models\n",
        "user_based_cv_results = cross_validate(user_based_cf, data, measures=['RMSE'], cv=5, verbose=True)\n",
        "item_based_cv_results = cross_validate(item_based_cf, data, measures=['RMSE'], cv=5, verbose=True)\n",
        "\n",
        "# Print cross-validation results\n",
        "print(\"User-based CF Cross-Validation Results:\")\n",
        "for key, value in user_based_cv_results.items():\n",
        "    print(f\"{key}: {value}\")\n",
        "\n",
        "print(\"\\nItem-based CF Cross-Validation Results:\")\n",
        "for key, value in item_based_cv_results.items():\n",
        "    print(f\"{key}: {value}\")\n"
      ]
    },
    {
      "cell_type": "code",
      "execution_count": null,
      "metadata": {
        "id": "1coXSI2uRimx"
      },
      "outputs": [],
      "source": [
        "from collections import defaultdict\n",
        "\n",
        "# Measure the accuracy of recommendations by comparing predicted ratings to actual ratings\n",
        "def compute_accuracy(predictions):\n",
        "    total_error = 0\n",
        "    for pred in predictions:\n",
        "        total_error += (pred.r_ui - pred.est) ** 2\n",
        "    accuracy = (total_error / len(predictions)) ** 0.5\n",
        "    return accuracy\n",
        "\n",
        "user_based_accuracy = compute_accuracy(user_based_test_predictions)\n",
        "item_based_accuracy = compute_accuracy(item_based_test_predictions)\n",
        "\n",
        "print(\"User-based CF Accuracy (Test Data):\", user_based_accuracy)\n",
        "print(\"Item-based CF Accuracy (Test Data):\", item_based_accuracy)\n",
        "\n",
        "# Calculate coverage metrics to assess the proportion of items recommended to users\n",
        "def compute_coverage(predictions, n_items):\n",
        "    recommended_items = defaultdict(int)\n",
        "    for pred in predictions:\n",
        "        recommended_items[pred.iid] += 1\n",
        "    coverage = len(recommended_items) / n_items\n",
        "    return coverage\n",
        "\n",
        "n_items = len(set(merged_df['movieId']))\n",
        "user_based_coverage = compute_coverage(user_based_test_predictions, n_items)\n",
        "item_based_coverage = compute_coverage(item_based_test_predictions, n_items)\n",
        "\n",
        "print(\"User-based CF Coverage:\", user_based_coverage)\n",
        "print(\"Item-based CF Coverage:\", item_based_coverage)\n",
        "\n",
        "# Evaluate the diversity of recommendations to ensure a variety of items are recommended to users\n",
        "def compute_diversity(predictions):\n",
        "    recommended_items = set()\n",
        "    for pred in predictions:\n",
        "        recommended_items.add(pred.iid)\n",
        "    diversity = len(recommended_items) / len(predictions)\n",
        "    return diversity\n",
        "\n",
        "user_based_diversity = compute_diversity(user_based_test_predictions)\n",
        "item_based_diversity = compute_diversity(item_based_test_predictions)\n",
        "\n",
        "print(\"User-based CF Diversity:\", user_based_diversity)\n",
        "print(\"Item-based CF Diversity:\", item_based_diversity)\n"
      ]
    },
    {
      "cell_type": "code",
      "execution_count": null,
      "metadata": {
        "id": "jo8NyPq4RoDj"
      },
      "outputs": [],
      "source": [
        "from collections import defaultdict\n",
        "\n",
        "# Accuracy: Root Mean Squared Error (RMSE)\n",
        "user_based_rmse = accuracy.rmse(user_based_test_predictions)\n",
        "item_based_rmse = accuracy.rmse(item_based_test_predictions)\n",
        "\n",
        "print(\"User-based CF RMSE (Test Data):\", user_based_rmse)\n",
        "print(\"Item-based CF RMSE (Test Data):\", item_based_rmse)\n",
        "\n",
        "# Coverage: Proportion of items recommended to users\n",
        "def compute_coverage(predictions, n_items):\n",
        "    recommended_items = set([pred.iid for pred in predictions])\n",
        "    coverage = len(recommended_items) / n_items\n",
        "    return coverage\n",
        "\n",
        "n_items = len(set(merged_df['movieId']))\n",
        "user_based_coverage = compute_coverage(user_based_test_predictions, n_items)\n",
        "item_based_coverage = compute_coverage(item_based_test_predictions, n_items)\n",
        "\n",
        "print(\"User-based CF Coverage:\", user_based_coverage)\n",
        "print(\"Item-based CF Coverage:\", item_based_coverage)\n",
        "\n",
        "# Diversity: Average number of unique items recommended per user\n",
        "def compute_diversity(predictions):\n",
        "    user_recommendations = defaultdict(set)\n",
        "    for pred in predictions:\n",
        "        user_recommendations[pred.uid].add(pred.iid)\n",
        "    diversity = sum(len(items) for items in user_recommendations.values()) / len(user_recommendations)\n",
        "    return diversity\n",
        "\n",
        "user_based_diversity = compute_diversity(user_based_test_predictions)\n",
        "item_based_diversity = compute_diversity(item_based_test_predictions)\n",
        "\n",
        "print(\"User-based CF Diversity:\", user_based_diversity)\n",
        "print(\"Item-based CF Diversity:\", item_based_diversity)\n"
      ]
    },
    {
      "cell_type": "markdown",
      "metadata": {
        "id": "5phnhvUbGukg"
      },
      "source": [
        "from collections import defaultdict\n",
        "\n",
        "# Accuracy: Root Mean Squared Error (RMSE)\n",
        "user_based_rmse = accuracy.rmse(user_based_test_predictions)\n",
        "item_based_rmse = accuracy.rmse(item_based_test_predictions)\n",
        "\n",
        "print(\"User-based CF RMSE (Test Data):\", user_based_rmse)\n",
        "print(\"Item-based CF RMSE (Test Data):\", item_based_rmse)\n",
        "\n",
        "# Coverage: Proportion of items recommended to users\n",
        "def compute_coverage(predictions, n_items):\n",
        "    recommended_items = set([pred.iid for pred in predictions])\n",
        "    coverage = len(recommended_items) / n_items\n",
        "    return coverage\n",
        "\n",
        "n_items = len(set(merged_df['movieId']))\n",
        "user_based_coverage = compute_coverage(user_based_test_predictions, n_items)\n",
        "item_based_coverage = compute_coverage(item_based_test_predictions, n_items)\n",
        "\n",
        "print(\"User-based CF Coverage:\", user_based_coverage)\n",
        "print(\"Item-based CF Coverage:\", item_based_coverage)\n",
        "\n",
        "# Diversity: Average number of unique items recommended per user\n",
        "def compute_diversity(predictions):\n",
        "    user_recommendations = defaultdict(set)\n",
        "    for pred in predictions:\n",
        "        user_recommendations[pred.uid].add(pred.iid)\n",
        "    diversity = sum(len(items) for items in user_recommendations.values()) / len(user_recommendations)\n",
        "    return diversity\n",
        "\n",
        "user_based_diversity = compute_diversity(user_based_test_predictions)\n",
        "item_based_diversity = compute_diversity(item_based_test_predictions)\n",
        "\n",
        "print(\"User-based CF Diversity:\", user_based_diversity)\n",
        "print(\"Item-based CF Diversity:\", item_based_diversity)\n"
      ]
    },
    {
      "cell_type": "code",
      "execution_count": null,
      "metadata": {
        "colab": {
          "base_uri": "https://localhost:8080/",
          "height": 236
        },
        "id": "vJOT5xEYHhsD",
        "outputId": "26a7c971-44e6-4a53-a3b9-71b862b65a57"
      },
      "outputs": [
        {
          "ename": "NameError",
          "evalue": "name 'user_based_test_predictions' is not defined",
          "output_type": "error",
          "traceback": [
            "\u001b[0;31m---------------------------------------------------------------------------\u001b[0m",
            "\u001b[0;31mNameError\u001b[0m                                 Traceback (most recent call last)",
            "\u001b[0;32m<ipython-input-20-4a0847d75e99>\u001b[0m in \u001b[0;36m<cell line: 5>\u001b[0;34m()\u001b[0m\n\u001b[1;32m      3\u001b[0m \u001b[0;34m\u001b[0m\u001b[0m\n\u001b[1;32m      4\u001b[0m \u001b[0;31m# Inspect the predictions for the test data\u001b[0m\u001b[0;34m\u001b[0m\u001b[0;34m\u001b[0m\u001b[0m\n\u001b[0;32m----> 5\u001b[0;31m \u001b[0;32mfor\u001b[0m \u001b[0mpred\u001b[0m \u001b[0;32min\u001b[0m \u001b[0muser_based_test_predictions\u001b[0m\u001b[0;34m[\u001b[0m\u001b[0;34m:\u001b[0m\u001b[0;36m5\u001b[0m\u001b[0;34m]\u001b[0m\u001b[0;34m:\u001b[0m  \u001b[0;31m# Display the first 5 predictions\u001b[0m\u001b[0;34m\u001b[0m\u001b[0;34m\u001b[0m\u001b[0m\n\u001b[0m\u001b[1;32m      6\u001b[0m     \u001b[0mmovie_name\u001b[0m \u001b[0;34m=\u001b[0m \u001b[0mmovie_id_to_name\u001b[0m\u001b[0;34m.\u001b[0m\u001b[0mget\u001b[0m\u001b[0;34m(\u001b[0m\u001b[0mpred\u001b[0m\u001b[0;34m.\u001b[0m\u001b[0miid\u001b[0m\u001b[0;34m,\u001b[0m \u001b[0;34m'Unknown'\u001b[0m\u001b[0;34m)\u001b[0m  \u001b[0;31m# Get the movie name from the dictionary\u001b[0m\u001b[0;34m\u001b[0m\u001b[0;34m\u001b[0m\u001b[0m\n\u001b[1;32m      7\u001b[0m     \u001b[0mprint\u001b[0m\u001b[0;34m(\u001b[0m\u001b[0;34mf\"User ID: {pred.uid}, Movie ID: {pred.iid}, Movie Name: {movie_name}, Actual Rating: {pred.r_ui}, Predicted Rating: {pred.est}\"\u001b[0m\u001b[0;34m)\u001b[0m\u001b[0;34m\u001b[0m\u001b[0;34m\u001b[0m\u001b[0m\n",
            "\u001b[0;31mNameError\u001b[0m: name 'user_based_test_predictions' is not defined"
          ]
        }
      ],
      "source": [
        "# Create a dictionary mapping movie IDs to movie names\n",
        "movie_id_to_name = dict(zip(merged_df['movieId'], merged_df['title']))\n",
        "\n",
        "# Inspect the predictions for the test data\n",
        "for pred in user_based_test_predictions[:5]:  # Display the first 5 predictions\n",
        "    movie_name = movie_id_to_name.get(pred.iid, 'Unknown')  # Get the movie name from the dictionary\n",
        "    print(f\"User ID: {pred.uid}, Movie ID: {pred.iid}, Movie Name: {movie_name}, Actual Rating: {pred.r_ui}, Predicted Rating: {pred.est}\")\n",
        "\n",
        "for pred in item_based_test_predictions[:5]:  # Display the first 5 predictions\n",
        "    movie_name = movie_id_to_name.get(pred.iid, 'Unknown')  # Get the movie name from the dictionary\n",
        "    print(f\"User ID: {pred.uid}, Movie ID: {pred.iid}, Movie Name: {movie_name}, Actual Rating: {pred.r_ui}, Predicted Rating: {pred.est}\")"
      ]
    }
  ],
  "metadata": {
    "colab": {
      "provenance": []
    },
    "kernelspec": {
      "display_name": "Python 3",
      "name": "python3"
    },
    "language_info": {
      "name": "python"
    }
  },
  "nbformat": 4,
  "nbformat_minor": 0
}